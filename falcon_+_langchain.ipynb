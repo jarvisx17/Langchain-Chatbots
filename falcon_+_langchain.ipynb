{
  "nbformat": 4,
  "nbformat_minor": 0,
  "metadata": {
    "colab": {
      "provenance": [],
      "gpuType": "T4",
      "authorship_tag": "ABX9TyMU0n0D/7AZyAxWTCC/iB0r",
      "include_colab_link": true
    },
    "kernelspec": {
      "name": "python3",
      "display_name": "Python 3"
    },
    "language_info": {
      "name": "python"
    },
    "accelerator": "GPU"
  },
  "cells": [
    {
      "cell_type": "markdown",
      "metadata": {
        "id": "view-in-github",
        "colab_type": "text"
      },
      "source": [
        "<a href=\"https://colab.research.google.com/github/jarvisx17/Langchain-Chatbots/blob/main/falcon_%2B_langchain.ipynb\" target=\"_parent\"><img src=\"https://colab.research.google.com/assets/colab-badge.svg\" alt=\"Open In Colab\"/></a>"
      ]
    },
    {
      "cell_type": "code",
      "execution_count": null,
      "metadata": {
        "colab": {
          "base_uri": "https://localhost:8080/"
        },
        "id": "wNIivIDPdLOs",
        "outputId": "da075b19-c5e8-4ce7-af9f-ec77f284700d"
      },
      "outputs": [
        {
          "output_type": "stream",
          "name": "stdout",
          "text": [
            "\u001b[2K     \u001b[90m━━━━━━━━━━━━━━━━━━━━━━━━━━━━━━━━━━━━━━━━\u001b[0m \u001b[32m7.4/7.4 MB\u001b[0m \u001b[31m15.9 MB/s\u001b[0m eta \u001b[36m0:00:00\u001b[0m\n",
            "\u001b[2K     \u001b[90m━━━━━━━━━━━━━━━━━━━━━━━━━━━━━━━━━━━━━━\u001b[0m \u001b[32m268.8/268.8 kB\u001b[0m \u001b[31m30.5 MB/s\u001b[0m eta \u001b[36m0:00:00\u001b[0m\n",
            "\u001b[2K     \u001b[90m━━━━━━━━━━━━━━━━━━━━━━━━━━━━━━━━━━━━━━━━\u001b[0m \u001b[32m7.8/7.8 MB\u001b[0m \u001b[31m49.1 MB/s\u001b[0m eta \u001b[36m0:00:00\u001b[0m\n",
            "\u001b[2K     \u001b[90m━━━━━━━━━━━━━━━━━━━━━━━━━━━━━━━━━━━━━━━━\u001b[0m \u001b[32m1.3/1.3 MB\u001b[0m \u001b[31m47.8 MB/s\u001b[0m eta \u001b[36m0:00:00\u001b[0m\n",
            "\u001b[2K     \u001b[90m━━━━━━━━━━━━━━━━━━━━━━━━━━━━━━━━━━━━━━━\u001b[0m \u001b[32m244.2/244.2 kB\u001b[0m \u001b[31m3.2 MB/s\u001b[0m eta \u001b[36m0:00:00\u001b[0m\n",
            "\u001b[2K     \u001b[90m━━━━━━━━━━━━━━━━━━━━━━━━━━━━━━━━━━━━━━━━\u001b[0m \u001b[32m42.2/42.2 kB\u001b[0m \u001b[31m4.0 MB/s\u001b[0m eta \u001b[36m0:00:00\u001b[0m\n",
            "\u001b[2K     \u001b[90m━━━━━━━━━━━━━━━━━━━━━━━━━━━━━━━━━━━━━━━━\u001b[0m \u001b[32m1.4/1.4 MB\u001b[0m \u001b[31m6.5 MB/s\u001b[0m eta \u001b[36m0:00:00\u001b[0m\n",
            "\u001b[2K     \u001b[90m━━━━━━━━━━━━━━━━━━━━━━━━━━━━━━━━━━━━━━━━\u001b[0m \u001b[32m90.0/90.0 kB\u001b[0m \u001b[31m10.9 MB/s\u001b[0m eta \u001b[36m0:00:00\u001b[0m\n",
            "\u001b[2K     \u001b[90m━━━━━━━━━━━━━━━━━━━━━━━━━━━━━━━━━━━━━━━━\u001b[0m \u001b[32m49.4/49.4 kB\u001b[0m \u001b[31m5.2 MB/s\u001b[0m eta \u001b[36m0:00:00\u001b[0m\n",
            "\u001b[2K     \u001b[90m━━━━━━━━━━━━━━━━━━━━━━━━━━━━━━━━━━━━━━━\u001b[0m \u001b[32m109.1/109.1 MB\u001b[0m \u001b[31m9.5 MB/s\u001b[0m eta \u001b[36m0:00:00\u001b[0m\n",
            "\u001b[?25h"
          ]
        }
      ],
      "source": [
        "!pip install -q transformers\n",
        "!pip install -q accelerate einops\n",
        "!pip install -q langchain\n",
        "!pip install -q xformers"
      ]
    },
    {
      "cell_type": "code",
      "source": [
        "from torch import cuda, bfloat16\n",
        "import transformers\n",
        "from transformers import AutoTokenizer, AutoModelForCausalLM\n",
        "device = f'cuda:{cuda.current_device()}' if cuda.is_available() else 'cpu'\n",
        "\n",
        "#creating a model\n",
        "fmodel = AutoModelForCausalLM.from_pretrained(\n",
        "    'tiiuae/falcon-7b-instruct',\n",
        "    trust_remote_code=True,\n",
        "    torch_dtype=bfloat16\n",
        ").to(device)\n",
        "fmodel.eval()\n",
        "fmodel.to(device)\n",
        "print(f'Model loaded on {device}')"
      ],
      "metadata": {
        "id": "TYQibES1djje"
      },
      "execution_count": null,
      "outputs": []
    },
    {
      "cell_type": "code",
      "source": [
        "tokenizer = AutoTokenizer.from_pretrained('tiiuae/falcon-7b-instruct')"
      ],
      "metadata": {
        "id": "Giz4G6had9w2"
      },
      "execution_count": null,
      "outputs": []
    },
    {
      "cell_type": "code",
      "source": [
        "gen_text = transformers.pipeline(\n",
        "    model=fmodel,\n",
        "    tokenizer=tokenizer,\n",
        "    task='text-generation',\n",
        "    return_full_text=True,\n",
        "    device=device,\n",
        "    max_length=10000,\n",
        "    temperature=0.1,\n",
        "    top_p=0.15, #select from top tokens whose probability adds up to 15%\n",
        "    top_k=0, #selecting from top 0 tokens\n",
        "    repetition_penalty=1.1, #without a penalty, output starts to repeat\n",
        "    do_sample=True,\n",
        "    num_return_sequences=1,\n",
        "    eos_token_id=tokenizer.eos_token_id,\n",
        ")"
      ],
      "metadata": {
        "id": "iiPK-EVDeDJz"
      },
      "execution_count": null,
      "outputs": []
    },
    {
      "cell_type": "code",
      "source": [
        "result = gen_text(\"What is the name of the first president of the united arab emirates?\")\n",
        "print(result[0]['generated_text'])\n"
      ],
      "metadata": {
        "id": "8TXSqlCGeIsY"
      },
      "execution_count": null,
      "outputs": []
    },
    {
      "cell_type": "code",
      "source": [
        "from langchain import PromptTemplate, LLMChain\n",
        "from langchain.chains.conversation.memory import ConversationBufferMemory,ConversationSummaryMemory\n",
        "from langchain.llms import HuggingFacePipeline\n",
        "\n",
        "#creating a new conversational template\n",
        "template = \"\"\"You are an informative assistant chatting with a human.\n",
        "{chat_history}\n",
        "Human:{human_input}\n",
        "Assistant:\"\"\"\n",
        "#creating the prompt\n",
        "prompt = PromptTemplate(\n",
        "    input_variables=[\"chat_history\",\"human_input\"],\n",
        "    template=template\n",
        ")\n",
        "memory = ConversationBufferMemory(memory_key=\"chat_history\")\n",
        "\n",
        "llm = HuggingFacePipeline(pipeline=gen_text)\n",
        "#adding memory to the llm chain\n",
        "llm_chain = LLMChain(llm=llm,prompt=prompt,memory=memory)\n"
      ],
      "metadata": {
        "id": "2RQ50RAVe_4r"
      },
      "execution_count": null,
      "outputs": []
    },
    {
      "cell_type": "code",
      "source": [
        "\n",
        "#1st prompt\n",
        "llm_chain.predict(human_input='What is the first president of UAE?')"
      ],
      "metadata": {
        "id": "b1X-djbFfJ1G"
      },
      "execution_count": null,
      "outputs": []
    },
    {
      "cell_type": "code",
      "source": [
        "\n",
        "#2nd prompt\n",
        "llm_chain.predict(human_input='Who was the president that came after him?')"
      ],
      "metadata": {
        "id": "31HTS8EVfLTd"
      },
      "execution_count": null,
      "outputs": []
    }
  ]
}